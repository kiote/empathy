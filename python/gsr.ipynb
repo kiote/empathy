{
 "cells": [
  {
   "cell_type": "code",
   "execution_count": 1,
   "id": "426b9984",
   "metadata": {},
   "outputs": [],
   "source": [
    "import pandas as pd\n",
    "import numpy as np\n",
    "from scipy.signal import argrelextrema\n",
    "import matplotlib.pyplot as plt"
   ]
  },
  {
   "cell_type": "code",
   "execution_count": 2,
   "id": "12a74b59",
   "metadata": {},
   "outputs": [],
   "source": [
    "experiment_time_ms = 19000"
   ]
  },
  {
   "cell_type": "code",
   "execution_count": 3,
   "id": "99225fc7",
   "metadata": {},
   "outputs": [
    {
     "data": {
      "text/html": [
       "<div>\n",
       "<style scoped>\n",
       "    .dataframe tbody tr th:only-of-type {\n",
       "        vertical-align: middle;\n",
       "    }\n",
       "\n",
       "    .dataframe tbody tr th {\n",
       "        vertical-align: top;\n",
       "    }\n",
       "\n",
       "    .dataframe thead th {\n",
       "        text-align: right;\n",
       "    }\n",
       "</style>\n",
       "<table border=\"1\" class=\"dataframe\">\n",
       "  <thead>\n",
       "    <tr style=\"text-align: right;\">\n",
       "      <th></th>\n",
       "      <th>value</th>\n",
       "    </tr>\n",
       "  </thead>\n",
       "  <tbody>\n",
       "    <tr>\n",
       "      <th>0</th>\n",
       "      <td>1.2800</td>\n",
       "    </tr>\n",
       "    <tr>\n",
       "      <th>1</th>\n",
       "      <td>1.2800</td>\n",
       "    </tr>\n",
       "    <tr>\n",
       "      <th>2</th>\n",
       "      <td>1.2800</td>\n",
       "    </tr>\n",
       "    <tr>\n",
       "      <th>3</th>\n",
       "      <td>1.2800</td>\n",
       "    </tr>\n",
       "    <tr>\n",
       "      <th>4</th>\n",
       "      <td>1.2800</td>\n",
       "    </tr>\n",
       "    <tr>\n",
       "      <th>...</th>\n",
       "      <td>...</td>\n",
       "    </tr>\n",
       "    <tr>\n",
       "      <th>1728</th>\n",
       "      <td>1.3478</td>\n",
       "    </tr>\n",
       "    <tr>\n",
       "      <th>1729</th>\n",
       "      <td>1.3478</td>\n",
       "    </tr>\n",
       "    <tr>\n",
       "      <th>1730</th>\n",
       "      <td>1.3413</td>\n",
       "    </tr>\n",
       "    <tr>\n",
       "      <th>1731</th>\n",
       "      <td>1.3413</td>\n",
       "    </tr>\n",
       "    <tr>\n",
       "      <th>1732</th>\n",
       "      <td>1.3413</td>\n",
       "    </tr>\n",
       "  </tbody>\n",
       "</table>\n",
       "<p>1733 rows × 1 columns</p>\n",
       "</div>"
      ],
      "text/plain": [
       "       value\n",
       "0     1.2800\n",
       "1     1.2800\n",
       "2     1.2800\n",
       "3     1.2800\n",
       "4     1.2800\n",
       "...      ...\n",
       "1728  1.3478\n",
       "1729  1.3478\n",
       "1730  1.3413\n",
       "1731  1.3413\n",
       "1732  1.3413\n",
       "\n",
       "[1733 rows x 1 columns]"
      ]
     },
     "execution_count": 3,
     "metadata": {},
     "output_type": "execute_result"
    }
   ],
   "source": [
    "df = pd.read_csv('rawdata/1645703267/gsrLN1.csv', header=None, names=[\"value\"])\n",
    "df"
   ]
  },
  {
   "cell_type": "code",
   "execution_count": 4,
   "id": "0e9acb56",
   "metadata": {},
   "outputs": [
    {
     "data": {
      "text/plain": [
       "1733"
      ]
     },
     "execution_count": 4,
     "metadata": {},
     "output_type": "execute_result"
    }
   ],
   "source": [
    "original_count = len(df['value'])\n",
    "original_count"
   ]
  },
  {
   "cell_type": "code",
   "execution_count": 5,
   "id": "aaddcce9",
   "metadata": {},
   "outputs": [
    {
     "data": {
      "text/plain": [
       "[<matplotlib.lines.Line2D at 0x7f75ef612e20>]"
      ]
     },
     "execution_count": 5,
     "metadata": {},
     "output_type": "execute_result"
    },
    {
     "data": {
      "image/png": "[encoded data removed]",
      "text/plain": [
       "<Figure size 432x288 with 1 Axes>"
      ]
     },
     "metadata": {
      "needs_background": "light"
     },
     "output_type": "display_data"
    }
   ],
   "source": [
    "ax = plt.gca()\n",
    "plt.plot(df.index, df['value'])"
   ]
  },
  {
   "cell_type": "code",
   "execution_count": 18,
   "id": "26b737b8",
   "metadata": {},
   "outputs": [],
   "source": [
    "# number of points to be checked before and after\n",
    "n = 300\n",
    "df['max'] = df.iloc[argrelextrema(df.value.values, np.greater_equal, order=n)[0]]['value']"
   ]
  },
  {
   "cell_type": "code",
   "execution_count": 19,
   "id": "03962b2f",
   "metadata": {},
   "outputs": [
    {
     "data": {
      "text/plain": [
       "[<matplotlib.lines.Line2D at 0x7f75eea6d7f0>]"
      ]
     },
     "execution_count": 19,
     "metadata": {},
     "output_type": "execute_result"
    },
    {
     "data": {
      "image/png": "[encoded data removed]",
      "text/plain": [
       "<Figure size 432x288 with 1 Axes>"
      ]
     },
     "metadata": {
      "needs_background": "light"
     },
     "output_type": "display_data"
    }
   ],
   "source": [
    "plt.scatter(df.index, df['max'], c='g')\n",
    "plt.plot(df.index, df['value'])"
   ]
  },
  {
   "cell_type": "code",
   "execution_count": 22,
   "id": "737de175",
   "metadata": {},
   "outputs": [
    {
     "data": {
      "text/html": [
       "<div>\n",
       "<style scoped>\n",
       "    .dataframe tbody tr th:only-of-type {\n",
       "        vertical-align: middle;\n",
       "    }\n",
       "\n",
       "    .dataframe tbody tr th {\n",
       "        vertical-align: top;\n",
       "    }\n",
       "\n",
       "    .dataframe thead th {\n",
       "        text-align: right;\n",
       "    }\n",
       "</style>\n",
       "<table border=\"1\" class=\"dataframe\">\n",
       "  <thead>\n",
       "    <tr style=\"text-align: right;\">\n",
       "      <th></th>\n",
       "      <th>value</th>\n",
       "      <th>max</th>\n",
       "    </tr>\n",
       "  </thead>\n",
       "  <tbody>\n",
       "    <tr>\n",
       "      <th>229</th>\n",
       "      <td>1.3578</td>\n",
       "      <td>1.3578</td>\n",
       "    </tr>\n",
       "    <tr>\n",
       "      <th>230</th>\n",
       "      <td>1.3578</td>\n",
       "      <td>1.3578</td>\n",
       "    </tr>\n",
       "    <tr>\n",
       "      <th>231</th>\n",
       "      <td>1.3578</td>\n",
       "      <td>1.3578</td>\n",
       "    </tr>\n",
       "    <tr>\n",
       "      <th>232</th>\n",
       "      <td>1.3578</td>\n",
       "      <td>1.3578</td>\n",
       "    </tr>\n",
       "    <tr>\n",
       "      <th>233</th>\n",
       "      <td>1.3578</td>\n",
       "      <td>1.3578</td>\n",
       "    </tr>\n",
       "    <tr>\n",
       "      <th>234</th>\n",
       "      <td>1.3578</td>\n",
       "      <td>1.3578</td>\n",
       "    </tr>\n",
       "    <tr>\n",
       "      <th>235</th>\n",
       "      <td>1.3578</td>\n",
       "      <td>1.3578</td>\n",
       "    </tr>\n",
       "    <tr>\n",
       "      <th>236</th>\n",
       "      <td>1.3578</td>\n",
       "      <td>1.3578</td>\n",
       "    </tr>\n",
       "    <tr>\n",
       "      <th>237</th>\n",
       "      <td>1.3578</td>\n",
       "      <td>1.3578</td>\n",
       "    </tr>\n",
       "    <tr>\n",
       "      <th>238</th>\n",
       "      <td>1.3578</td>\n",
       "      <td>1.3578</td>\n",
       "    </tr>\n",
       "    <tr>\n",
       "      <th>239</th>\n",
       "      <td>1.3578</td>\n",
       "      <td>1.3578</td>\n",
       "    </tr>\n",
       "    <tr>\n",
       "      <th>240</th>\n",
       "      <td>1.3578</td>\n",
       "      <td>1.3578</td>\n",
       "    </tr>\n",
       "    <tr>\n",
       "      <th>663</th>\n",
       "      <td>1.4191</td>\n",
       "      <td>1.4191</td>\n",
       "    </tr>\n",
       "    <tr>\n",
       "      <th>664</th>\n",
       "      <td>1.4191</td>\n",
       "      <td>1.4191</td>\n",
       "    </tr>\n",
       "    <tr>\n",
       "      <th>665</th>\n",
       "      <td>1.4191</td>\n",
       "      <td>1.4191</td>\n",
       "    </tr>\n",
       "    <tr>\n",
       "      <th>666</th>\n",
       "      <td>1.4191</td>\n",
       "      <td>1.4191</td>\n",
       "    </tr>\n",
       "    <tr>\n",
       "      <th>667</th>\n",
       "      <td>1.4191</td>\n",
       "      <td>1.4191</td>\n",
       "    </tr>\n",
       "    <tr>\n",
       "      <th>668</th>\n",
       "      <td>1.4191</td>\n",
       "      <td>1.4191</td>\n",
       "    </tr>\n",
       "    <tr>\n",
       "      <th>669</th>\n",
       "      <td>1.4191</td>\n",
       "      <td>1.4191</td>\n",
       "    </tr>\n",
       "    <tr>\n",
       "      <th>670</th>\n",
       "      <td>1.4191</td>\n",
       "      <td>1.4191</td>\n",
       "    </tr>\n",
       "    <tr>\n",
       "      <th>671</th>\n",
       "      <td>1.4191</td>\n",
       "      <td>1.4191</td>\n",
       "    </tr>\n",
       "    <tr>\n",
       "      <th>672</th>\n",
       "      <td>1.4191</td>\n",
       "      <td>1.4191</td>\n",
       "    </tr>\n",
       "    <tr>\n",
       "      <th>673</th>\n",
       "      <td>1.4191</td>\n",
       "      <td>1.4191</td>\n",
       "    </tr>\n",
       "    <tr>\n",
       "      <th>674</th>\n",
       "      <td>1.4191</td>\n",
       "      <td>1.4191</td>\n",
       "    </tr>\n",
       "    <tr>\n",
       "      <th>675</th>\n",
       "      <td>1.4191</td>\n",
       "      <td>1.4191</td>\n",
       "    </tr>\n",
       "  </tbody>\n",
       "</table>\n",
       "</div>"
      ],
      "text/plain": [
       "      value     max\n",
       "229  1.3578  1.3578\n",
       "230  1.3578  1.3578\n",
       "231  1.3578  1.3578\n",
       "232  1.3578  1.3578\n",
       "233  1.3578  1.3578\n",
       "234  1.3578  1.3578\n",
       "235  1.3578  1.3578\n",
       "236  1.3578  1.3578\n",
       "237  1.3578  1.3578\n",
       "238  1.3578  1.3578\n",
       "239  1.3578  1.3578\n",
       "240  1.3578  1.3578\n",
       "663  1.4191  1.4191\n",
       "664  1.4191  1.4191\n",
       "665  1.4191  1.4191\n",
       "666  1.4191  1.4191\n",
       "667  1.4191  1.4191\n",
       "668  1.4191  1.4191\n",
       "669  1.4191  1.4191\n",
       "670  1.4191  1.4191\n",
       "671  1.4191  1.4191\n",
       "672  1.4191  1.4191\n",
       "673  1.4191  1.4191\n",
       "674  1.4191  1.4191\n",
       "675  1.4191  1.4191"
      ]
     },
     "execution_count": 22,
     "metadata": {},
     "output_type": "execute_result"
    }
   ],
   "source": [
    "df = df.dropna()\n",
    "df"
   ]
  },
  {
   "cell_type": "code",
   "execution_count": null,
   "id": "4cd1544d",
   "metadata": {},
   "outputs": [],
   "source": []
  }
 ],
 "metadata": {
  "kernelspec": {
   "display_name": "Python 3 (ipykernel)",
   "language": "python",
   "name": "python3"
  },
  "language_info": {
   "codemirror_mode": {
    "name": "ipython",
    "version": 3
   },
   "file_extension": ".py",
   "mimetype": "text/x-python",
   "name": "python",
   "nbconvert_exporter": "python",
   "pygments_lexer": "ipython3",
   "version": "3.9.7"
  }
 },
 "nbformat": 4,
 "nbformat_minor": 5
}
