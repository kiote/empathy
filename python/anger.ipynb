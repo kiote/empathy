{
 "cells": [
  {
   "cell_type": "code",
   "execution_count": 1,
   "id": "dcb133de",
   "metadata": {},
   "outputs": [],
   "source": [
    "import pandas as pd\n",
    "import numpy as np\n",
    "from scipy.signal import argrelextrema\n",
    "import matplotlib.pyplot as plt"
   ]
  },
  {
   "cell_type": "code",
   "execution_count": 48,
   "id": "1b6b3eb8",
   "metadata": {},
   "outputs": [],
   "source": [
    "folder_name = '1645186354'\n",
    "file_nr = '1'"
   ]
  },
  {
   "cell_type": "code",
   "execution_count": 49,
   "id": "b48ad2b2",
   "metadata": {},
   "outputs": [
    {
     "name": "stderr",
     "output_type": "stream",
     "text": [
      "/opt/conda/lib/python3.9/site-packages/IPython/core/interactiveshell.py:3444: DtypeWarning: Columns (148,149,150,151,152,153) have mixed types.Specify dtype option on import or set low_memory=False.\n",
      "  exec(code_obj, self.user_global_ns, self.user_ns)\n"
     ]
    }
   ],
   "source": [
    "df = pd.read_csv(f'rawdata/{folder_name}/emotions{file_nr}.csv', header=None)"
   ]
  },
  {
   "cell_type": "code",
   "execution_count": 52,
   "id": "f287c6cb",
   "metadata": {},
   "outputs": [],
   "source": [
    "# remove not needed columns (no idea what they are)\n",
    "df = df.drop(df.columns[46:], axis=1)"
   ]
  },
  {
   "cell_type": "code",
   "execution_count": 53,
   "id": "1122cf9c",
   "metadata": {},
   "outputs": [],
   "source": [
    "# put names to columnst\n",
    "df.columns =[\"Row\",\"Timestamp\",\"Combined Event Source\",\"SlideEvent\",\"StimType\",\"Duration\",\"CollectionPhase\",\"SourceStimuliName\",\"SampleNumber\",\"Anger\",\"Contempt\",\"Disgust\",\"Fear\",\"Joy\",\"Sadness\",\"Surprise\",\"Engagement\",\"Valence\",\"Attention\",\"Brow Furrow\",\"Brow Raise\",\"Cheek Raise\",\"Chin Raise\",\"Dimpler\",\"Eye Closure\",\"Eye Widen\",\"Inner Brow Raise\",\"Jaw Drop\",\"Lip Corner Depressor\",\"Lip Press\",\"Lip Pucker\",\"Lip Stretch\",\"Lip Suck\",\"Lid Tighten\",\"Mouth Open\",\"Nose Wrinkle\",\"Smile\",\"Smirk\",\"Upper Lip Raise\",\"Pitch\",\"Yaw\",\"Roll\",\"Interocular Distance\",\"SampleNumber\",\"width\",\"height\"]"
   ]
  },
  {
   "cell_type": "code",
   "execution_count": 54,
   "id": "5cb41351",
   "metadata": {},
   "outputs": [
    {
     "data": {
      "text/plain": [
       "0       0.018095\n",
       "1       0.022026\n",
       "2       0.029590\n",
       "3       0.043343\n",
       "4       0.048627\n",
       "          ...   \n",
       "5957    0.308873\n",
       "5958    0.361272\n",
       "5959    0.631960\n",
       "5960    0.897894\n",
       "5961    1.321975\n",
       "Name: Anger, Length: 5962, dtype: float64"
      ]
     },
     "execution_count": 54,
     "metadata": {},
     "output_type": "execute_result"
    }
   ],
   "source": [
    "df[\"Anger\"]"
   ]
  },
  {
   "cell_type": "code",
   "execution_count": null,
   "id": "eb660359",
   "metadata": {},
   "outputs": [],
   "source": []
  }
 ],
 "metadata": {
  "kernelspec": {
   "display_name": "Python 3 (ipykernel)",
   "language": "python",
   "name": "python3"
  },
  "language_info": {
   "codemirror_mode": {
    "name": "ipython",
    "version": 3
   },
   "file_extension": ".py",
   "mimetype": "text/x-python",
   "name": "python",
   "nbconvert_exporter": "python",
   "pygments_lexer": "ipython3",
   "version": "3.9.7"
  }
 },
 "nbformat": 4,
 "nbformat_minor": 5
}
