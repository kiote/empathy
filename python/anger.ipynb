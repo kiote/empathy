{
 "cells": [
  {
   "cell_type": "code",
   "execution_count": 117,
   "id": "ed48d04d",
   "metadata": {},
   "outputs": [],
   "source": [
    "import pandas as pd\n",
    "import numpy as np\n",
    "from scipy.signal import find_peaks, peak_prominences, peak_widths, medfilt2d\n",
    "import matplotlib.pyplot as plt"
   ]
  },
  {
   "cell_type": "code",
   "execution_count": 118,
   "id": "2d0bb73b",
   "metadata": {},
   "outputs": [],
   "source": [
    "folder_name = '1645186354'\n",
    "file_nr = '1'"
   ]
  },
  {
   "cell_type": "code",
   "execution_count": 119,
   "id": "ac23e590",
   "metadata": {},
   "outputs": [
    {
     "name": "stderr",
     "output_type": "stream",
     "text": [
      "/opt/conda/lib/python3.9/site-packages/IPython/core/interactiveshell.py:3444: DtypeWarning: Columns (148,149,150,151,152,153) have mixed types.Specify dtype option on import or set low_memory=False.\n",
      "  exec(code_obj, self.user_global_ns, self.user_ns)\n"
     ]
    }
   ],
   "source": [
    "df = pd.read_csv(f'rawdata/{folder_name}/emotions{file_nr}.csv', header=None)"
   ]
  },
  {
   "cell_type": "code",
   "execution_count": 120,
   "id": "2097d416",
   "metadata": {},
   "outputs": [],
   "source": [
    "# remove not needed columns (no idea what they are)\n",
    "df = df.drop(df.columns[46:], axis=1)"
   ]
  },
  {
   "cell_type": "code",
   "execution_count": 121,
   "id": "27fb84f9",
   "metadata": {},
   "outputs": [],
   "source": [
    "# put names to columnst\n",
    "df.columns =[\"Row\",\"Timestamp\",\"Combined Event Source\",\"SlideEvent\",\"StimType\",\"Duration\",\"CollectionPhase\",\"SourceStimuliName\",\"SampleNumber\",\"Anger\",\"Contempt\",\"Disgust\",\"Fear\",\"Joy\",\"Sadness\",\"Surprise\",\"Engagement\",\"Valence\",\"Attention\",\"Brow Furrow\",\"Brow Raise\",\"Cheek Raise\",\"Chin Raise\",\"Dimpler\",\"Eye Closure\",\"Eye Widen\",\"Inner Brow Raise\",\"Jaw Drop\",\"Lip Corner Depressor\",\"Lip Press\",\"Lip Pucker\",\"Lip Stretch\",\"Lip Suck\",\"Lid Tighten\",\"Mouth Open\",\"Nose Wrinkle\",\"Smile\",\"Smirk\",\"Upper Lip Raise\",\"Pitch\",\"Yaw\",\"Roll\",\"Interocular Distance\",\"SampleNumber\",\"width\",\"height\"]"
   ]
  },
  {
   "cell_type": "code",
   "execution_count": 127,
   "id": "e5caadcb",
   "metadata": {},
   "outputs": [
    {
     "data": {
      "text/plain": [
       "[<matplotlib.lines.Line2D at 0x7f496a2e1850>]"
      ]
     },
     "execution_count": 127,
     "metadata": {},
     "output_type": "execute_result"
    },
    {
     "data": {
      "image/png": "[encoded data removed]",
      "text/plain": [
       "<Figure size 432x288 with 1 Axes>"
      ]
     },
     "metadata": {
      "needs_background": "light"
     },
     "output_type": "display_data"
    }
   ],
   "source": [
    "plt.plot(df[\"Timestamp\"], df['Anger'])"
   ]
  },
  {
   "cell_type": "code",
   "execution_count": 128,
   "id": "d8a39113",
   "metadata": {},
   "outputs": [],
   "source": [
    "x = df['Anger']\n",
    "peaks, _ = find_peaks(x)\n",
    "prominences = peak_prominences(x, peaks)[0]\n",
    "contour_heights = x[peaks] - prominences"
   ]
  },
  {
   "cell_type": "code",
   "execution_count": 129,
   "id": "27a428cc",
   "metadata": {},
   "outputs": [
    {
     "data": {
      "text/plain": [
       "count    748.000000\n",
       "mean       0.179452\n",
       "std        2.345551\n",
       "min        0.000000\n",
       "25%        0.002213\n",
       "50%        0.003934\n",
       "75%        0.015459\n",
       "max       61.596508\n",
       "Name: Anger, dtype: float64"
      ]
     },
     "execution_count": 129,
     "metadata": {},
     "output_type": "execute_result"
    }
   ],
   "source": [
    "# peak max prominence\n",
    "contour_heights.describe()"
   ]
  },
  {
   "cell_type": "code",
   "execution_count": 130,
   "id": "fbff9328",
   "metadata": {},
   "outputs": [
    {
     "data": {
      "text/plain": [
       "45.15708137902038"
      ]
     },
     "execution_count": 130,
     "metadata": {},
     "output_type": "execute_result"
    }
   ],
   "source": [
    "results_full = peak_widths(x, peaks, rel_height=1)\n",
    "max(results_full[0])"
   ]
  },
  {
   "cell_type": "code",
   "execution_count": 131,
   "id": "884fe135",
   "metadata": {},
   "outputs": [
    {
     "ename": "ValueError",
     "evalue": "object of too small depth for desired array",
     "output_type": "error",
     "traceback": [
      "\u001b[0;31m---------------------------------------------------------------------------\u001b[0m",
      "\u001b[0;31mValueError\u001b[0m                                Traceback (most recent call last)",
      "\u001b[0;32m/tmp/ipykernel_970/288705920.py\u001b[0m in \u001b[0;36m<module>\u001b[0;34m\u001b[0m\n\u001b[0;32m----> 1\u001b[0;31m \u001b[0mmedfilt2d\u001b[0m\u001b[0;34m(\u001b[0m\u001b[0mdf\u001b[0m\u001b[0;34m[\u001b[0m\u001b[0;34m'Contempt'\u001b[0m\u001b[0;34m]\u001b[0m\u001b[0;34m)\u001b[0m\u001b[0;34m\u001b[0m\u001b[0;34m\u001b[0m\u001b[0m\n\u001b[0m",
      "\u001b[0;32m/opt/conda/lib/python3.9/site-packages/scipy/signal/signaltools.py\u001b[0m in \u001b[0;36mmedfilt2d\u001b[0;34m(input, kernel_size)\u001b[0m\n\u001b[1;32m   1861\u001b[0m             \u001b[0;32mraise\u001b[0m \u001b[0mValueError\u001b[0m\u001b[0;34m(\u001b[0m\u001b[0;34m\"Each element of kernel_size should be odd.\"\u001b[0m\u001b[0;34m)\u001b[0m\u001b[0;34m\u001b[0m\u001b[0;34m\u001b[0m\u001b[0m\n\u001b[1;32m   1862\u001b[0m \u001b[0;34m\u001b[0m\u001b[0m\n\u001b[0;32m-> 1863\u001b[0;31m     \u001b[0;32mreturn\u001b[0m \u001b[0msigtools\u001b[0m\u001b[0;34m.\u001b[0m\u001b[0m_medfilt2d\u001b[0m\u001b[0;34m(\u001b[0m\u001b[0mimage\u001b[0m\u001b[0;34m,\u001b[0m \u001b[0mkernel_size\u001b[0m\u001b[0;34m)\u001b[0m\u001b[0;34m\u001b[0m\u001b[0;34m\u001b[0m\u001b[0m\n\u001b[0m\u001b[1;32m   1864\u001b[0m \u001b[0;34m\u001b[0m\u001b[0m\n\u001b[1;32m   1865\u001b[0m \u001b[0;34m\u001b[0m\u001b[0m\n",
      "\u001b[0;31mValueError\u001b[0m: object of too small depth for desired array"
     ]
    }
   ],
   "source": [
    "medfilt2d(df['Contempt'])"
   ]
  },
  {
   "cell_type": "code",
   "execution_count": null,
   "id": "efea491a",
   "metadata": {},
   "outputs": [],
   "source": []
  }
 ],
 "metadata": {
  "kernelspec": {
   "display_name": "Python 3 (ipykernel)",
   "language": "python",
   "name": "python3"
  },
  "language_info": {
   "codemirror_mode": {
    "name": "ipython",
    "version": 3
   },
   "file_extension": ".py",
   "mimetype": "text/x-python",
   "name": "python",
   "nbconvert_exporter": "python",
   "pygments_lexer": "ipython3",
   "version": "3.9.7"
  }
 },
 "nbformat": 4,
 "nbformat_minor": 5
}
