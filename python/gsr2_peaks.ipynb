{
 "cells": [
  {
   "cell_type": "code",
   "execution_count": 66,
   "id": "ccabe0c8",
   "metadata": {},
   "outputs": [],
   "source": [
    "from scipy.signal import find_peaks, peak_prominences\n",
    "import pandas as pd\n",
    "import matplotlib.pyplot as plt"
   ]
  },
  {
   "cell_type": "code",
   "execution_count": 67,
   "id": "bc1c41d9",
   "metadata": {},
   "outputs": [],
   "source": [
    "df = pd.read_csv('rawdata/1645703267/gsrLN2.csv', header=None, names=['value'])"
   ]
  },
  {
   "cell_type": "code",
   "execution_count": 68,
   "id": "00dd6f02",
   "metadata": {},
   "outputs": [],
   "source": [
    "# smoothern the data\n",
    "df['mov_avg'] = df['value'].rolling(300).sum()"
   ]
  },
  {
   "cell_type": "code",
   "execution_count": 69,
   "id": "ce99aef4",
   "metadata": {},
   "outputs": [],
   "source": [
    "x = df['mov_avg']\n",
    "peaks, _ = find_peaks(x)\n",
    "prominences = peak_prominences(x, peaks)[0]"
   ]
  },
  {
   "cell_type": "code",
   "execution_count": 70,
   "id": "442bbd30",
   "metadata": {},
   "outputs": [
    {
     "data": {
      "image/png": "[encoded data removed]",
      "text/plain": [
       "<Figure size 432x288 with 1 Axes>"
      ]
     },
     "metadata": {
      "needs_background": "light"
     },
     "output_type": "display_data"
    }
   ],
   "source": [
    "contour_heights = x[peaks] - prominences\n",
    "plt.plot(x)\n",
    "plt.plot(peaks, x[peaks], \"x\")\n",
    "plt.vlines(x=peaks, ymin=contour_heights, ymax=x[peaks])\n",
    "plt.show()"
   ]
  },
  {
   "cell_type": "code",
   "execution_count": 72,
   "id": "fdc98f22",
   "metadata": {},
   "outputs": [
    {
     "data": {
      "text/plain": [
       "2"
      ]
     },
     "execution_count": 72,
     "metadata": {},
     "output_type": "execute_result"
    }
   ],
   "source": [
    "# peaks count\n",
    "len(peaks)"
   ]
  },
  {
   "cell_type": "code",
   "execution_count": 77,
   "id": "0342995c",
   "metadata": {},
   "outputs": [
    {
     "data": {
      "text/plain": [
       "329.16200000000003"
      ]
     },
     "execution_count": 77,
     "metadata": {},
     "output_type": "execute_result"
    }
   ],
   "source": [
    "# peak max prominence\n",
    "max(contour_heights)"
   ]
  },
  {
   "cell_type": "code",
   "execution_count": null,
   "id": "67c03c8d",
   "metadata": {},
   "outputs": [],
   "source": []
  }
 ],
 "metadata": {
  "kernelspec": {
   "display_name": "Python 3 (ipykernel)",
   "language": "python",
   "name": "python3"
  },
  "language_info": {
   "codemirror_mode": {
    "name": "ipython",
    "version": 3
   },
   "file_extension": ".py",
   "mimetype": "text/x-python",
   "name": "python",
   "nbconvert_exporter": "python",
   "pygments_lexer": "ipython3",
   "version": "3.9.7"
  }
 },
 "nbformat": 4,
 "nbformat_minor": 5
}
